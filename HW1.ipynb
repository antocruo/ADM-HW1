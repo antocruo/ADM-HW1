{
 "cells": [
  {
   "cell_type": "markdown",
   "id": "central-compression",
   "metadata": {},
   "source": [
    "# Homework #1"
   ]
  },
  {
   "cell_type": "markdown",
   "id": "discrete-canyon",
   "metadata": {},
   "source": [
    "Algoritmic Methods of Data Mining - Fall Semester 2021/2022"
   ]
  },
  {
   "cell_type": "markdown",
   "id": "patent-sauce",
   "metadata": {},
   "source": [
    "Cruoglio Antonella - matricola 2025992"
   ]
  },
  {
   "cell_type": "markdown",
   "id": "olive-brighton",
   "metadata": {},
   "source": [
    "## Problem 1"
   ]
  },
  {
   "cell_type": "markdown",
   "id": "finished-respondent",
   "metadata": {},
   "source": [
    "### 1. Introduction"
   ]
  },
  {
   "cell_type": "markdown",
   "id": "expressed-future",
   "metadata": {},
   "source": [
    "#### Say \"Hello, World!\" With Python"
   ]
  },
  {
   "cell_type": "code",
   "execution_count": null,
   "id": "twenty-venezuela",
   "metadata": {},
   "outputs": [],
   "source": [
    "print(\"Hello, World!\")"
   ]
  },
  {
   "cell_type": "markdown",
   "id": "saved-briefing",
   "metadata": {},
   "source": [
    "#### Python If-Else"
   ]
  },
  {
   "cell_type": "code",
   "execution_count": null,
   "id": "everyday-acoustic",
   "metadata": {},
   "outputs": [],
   "source": [
    "import math\n",
    "import os\n",
    "import random\n",
    "import re\n",
    "import sys\n",
    "\n",
    "\n",
    "if __name__ == '__main__':\n",
    "    n = int(input().strip())\n",
    "\n",
    "    if (n%2 != 0) or (n >= 6 and n <= 20):\n",
    "        print(\"Weird\")\n",
    "    else:\n",
    "        print(\"Not Weird\")"
   ]
  },
  {
   "cell_type": "markdown",
   "id": "suffering-focus",
   "metadata": {},
   "source": [
    "#### Arithmetic Operators"
   ]
  },
  {
   "cell_type": "code",
   "execution_count": null,
   "id": "interracial-glass",
   "metadata": {},
   "outputs": [],
   "source": [
    "if __name__ == '__main__':\n",
    "    a = int(input())\n",
    "    b = int(input())\n",
    "    if (1 <= a <= 10**10) and (1 <= b <= 10**10):\n",
    "        print((a + b), (a - b), (a * b), sep='\\n')"
   ]
  },
  {
   "cell_type": "markdown",
   "id": "armed-sheffield",
   "metadata": {},
   "source": [
    "#### Python: Division"
   ]
  },
  {
   "cell_type": "code",
   "execution_count": null,
   "id": "stainless-brave",
   "metadata": {},
   "outputs": [],
   "source": [
    "if __name__ == '__main__':\n",
    "    a = int(input())\n",
    "    b = int(input())\n",
    "    print(a//b, a/b, sep = '\\n')"
   ]
  },
  {
   "cell_type": "markdown",
   "id": "square-opportunity",
   "metadata": {},
   "source": [
    "#### Loops"
   ]
  },
  {
   "cell_type": "code",
   "execution_count": null,
   "id": "original-algorithm",
   "metadata": {},
   "outputs": [],
   "source": [
    "if __name__ == '__main__':\n",
    "    n = int(input())\n",
    "    for i in range(n):\n",
    "        print(i**2)"
   ]
  },
  {
   "cell_type": "markdown",
   "id": "secondary-monkey",
   "metadata": {},
   "source": [
    "#### Write a function"
   ]
  },
  {
   "cell_type": "code",
   "execution_count": null,
   "id": "convinced-separate",
   "metadata": {},
   "outputs": [],
   "source": [
    "def is_leap(year):\n",
    "    leap = False\n",
    "    \n",
    "    # Write your logic here\n",
    "    if year % 4 == 0 and (year % 100 != 0 or year % 400 == 0):\n",
    "        leap = True\n",
    "    \n",
    "    return leap"
   ]
  },
  {
   "cell_type": "markdown",
   "id": "adapted-brand",
   "metadata": {},
   "source": [
    "#### Print function"
   ]
  },
  {
   "cell_type": "code",
   "execution_count": null,
   "id": "thick-wireless",
   "metadata": {},
   "outputs": [],
   "source": [
    "if __name__ == '__main__':\n",
    "    n = int(input())\n",
    "    for i in range(1, n+1):\n",
    "        print(i, end = '')"
   ]
  },
  {
   "cell_type": "markdown",
   "id": "dense-rescue",
   "metadata": {},
   "source": [
    "### 2. Data Types"
   ]
  },
  {
   "cell_type": "markdown",
   "id": "further-woman",
   "metadata": {},
   "source": [
    "#### List Comprehensions"
   ]
  },
  {
   "cell_type": "code",
   "execution_count": null,
   "id": "diagnostic-opinion",
   "metadata": {},
   "outputs": [],
   "source": [
    "if __name__ == '__main__':\n",
    "    x = int(input())\n",
    "    y = int(input())\n",
    "    z = int(input())\n",
    "    n = int(input())\n",
    "    \n",
    "print([[i,j,k] for i in range(x+1) for j in range(y+1) for k in range(z+1) if ((i+j+k) != n)])"
   ]
  },
  {
   "cell_type": "markdown",
   "id": "fatal-latest",
   "metadata": {},
   "source": [
    "#### Find the Runner-Up Score!"
   ]
  },
  {
   "cell_type": "code",
   "execution_count": null,
   "id": "instructional-greensboro",
   "metadata": {},
   "outputs": [],
   "source": [
    "if __name__ == '__main__':\n",
    "    n = int(input())\n",
    "    arr = map(int, input().split())\n",
    "    gamers = [i for i in set(arr)]\n",
    "    win = max(gamers)\n",
    "    gamers.remove(win)\n",
    "    print(max(gamers))"
   ]
  },
  {
   "cell_type": "markdown",
   "id": "elder-result",
   "metadata": {},
   "source": [
    "#### Nested Lists"
   ]
  },
  {
   "cell_type": "code",
   "execution_count": null,
   "id": "wooden-journalism",
   "metadata": {},
   "outputs": [],
   "source": [
    "if __name__ == '__main__':\n",
    "    records = []\n",
    "    for _ in range(int(input())):\n",
    "        student = []\n",
    "        name = input()\n",
    "        student.append(name)\n",
    "        score = float(input())\n",
    "        student.append(score)\n",
    "        records.append(student)\n",
    "\n",
    "    marks =[]\n",
    "    for i in records:\n",
    "        marks.append(i[1])\n",
    "    grade = sorted(set(marks))[1]\n",
    "\n",
    "    stud = []\n",
    "    for j in records:\n",
    "        if j[1] == grade:\n",
    "            stud.append(j[0])\n",
    "    stud.sort()\n",
    "\n",
    "    for i in stud:\n",
    "        print(i, sep= '\\n')"
   ]
  },
  {
   "cell_type": "markdown",
   "id": "hourly-auckland",
   "metadata": {},
   "source": [
    "#### Finding the percentage"
   ]
  },
  {
   "cell_type": "code",
   "execution_count": null,
   "id": "parallel-consensus",
   "metadata": {},
   "outputs": [],
   "source": [
    "if __name__ == '__main__':\n",
    "    n = int(input())\n",
    "    student_marks = {}\n",
    "    for _ in range(n):\n",
    "        name, *line = input().split()\n",
    "        scores = list(map(float, line))\n",
    "        student_marks[name] = scores\n",
    "    query_name = input()\n",
    "    \n",
    "    marks = (student_marks[query_name])\n",
    "    print(\"{:.2f}\".format(sum(marks) / len(marks)))"
   ]
  },
  {
   "cell_type": "markdown",
   "id": "english-labor",
   "metadata": {},
   "source": [
    "#### Lists"
   ]
  },
  {
   "cell_type": "code",
   "execution_count": null,
   "id": "criminal-usage",
   "metadata": {},
   "outputs": [],
   "source": [
    "if __name__ == '__main__':\n",
    "    N = int(input(''))\n",
    "    op = []\n",
    "    i = 0\n",
    "    while i < N:\n",
    "        operation = input('')\n",
    "        op.append(operation)\n",
    "        i += 1\n",
    "\n",
    "    l = []\n",
    "    for i in op:\n",
    "        num = [int(digit) for digit in i.split() if digit.isdigit()]\n",
    "        if i.startswith('insert'):\n",
    "            l.insert(num[0], num[1])\n",
    "        elif i.startswith('append'):\n",
    "            l.append(num[0])\n",
    "        elif i.startswith('remove'):\n",
    "            l.remove(num[0])\n",
    "        elif i.startswith('pop'):\n",
    "            l.pop()\n",
    "        elif i.startswith('sort'):\n",
    "            l.sort()\n",
    "        elif i.startswith('reverse'):\n",
    "            l.reverse()\n",
    "        else:\n",
    "            print(l)"
   ]
  },
  {
   "cell_type": "markdown",
   "id": "national-desktop",
   "metadata": {},
   "source": [
    "#### Tuples"
   ]
  },
  {
   "cell_type": "code",
   "execution_count": null,
   "id": "familiar-comparison",
   "metadata": {},
   "outputs": [],
   "source": [
    "if __name__ == '__main__':\n",
    "    n = int(input())\n",
    "    integer_list = map(int, input().split())\n",
    "    int_tuple = tuple(integer_list)\n",
    "    print(hash(int_tuple))"
   ]
  },
  {
   "cell_type": "markdown",
   "id": "historic-spokesman",
   "metadata": {},
   "source": [
    "### 3. Strings"
   ]
  },
  {
   "cell_type": "markdown",
   "id": "posted-picture",
   "metadata": {},
   "source": [
    "#### sWAP cASE"
   ]
  },
  {
   "cell_type": "code",
   "execution_count": null,
   "id": "norwegian-mentor",
   "metadata": {},
   "outputs": [],
   "source": [
    "def swap_case(s):\n",
    "    l = [i for i in s]\n",
    "    low = []\n",
    "    up = []\n",
    "    for i in range(len(s)):\n",
    "        if s[i].lower() == s[i]:\n",
    "            low.append(i)\n",
    "        else:\n",
    "            up.append(i)\n",
    "    for i in low:\n",
    "        l[i] = s[i].upper()\n",
    "\n",
    "    for i in up:\n",
    "        l[i] = s[i].lower()\n",
    "\n",
    "    stringa = \"\".join(l)\n",
    "    return stringa"
   ]
  },
  {
   "cell_type": "markdown",
   "id": "contrary-greenhouse",
   "metadata": {},
   "source": [
    "#### String Formatting"
   ]
  },
  {
   "cell_type": "code",
   "execution_count": null,
   "id": "eleven-compound",
   "metadata": {},
   "outputs": [],
   "source": [
    "def print_formatted(number):\n",
    "    # your code goes here\n",
    "    \n",
    "    width = len(\"{0:b}\".format(n))\n",
    "    for i in range(1, n+1):\n",
    "        print(\"{i:{width}d} {i:{width}o} {i:{width}X} {i:{width}b}\".format(i=i, width=width))\n",
    "\n",
    "if __name__ == '__main__':\n",
    "    n = int(input())\n",
    "    print_formatted(n)"
   ]
  },
  {
   "cell_type": "markdown",
   "id": "adolescent-blanket",
   "metadata": {},
   "source": [
    "#### String Split and Join"
   ]
  },
  {
   "cell_type": "code",
   "execution_count": null,
   "id": "continuous-lexington",
   "metadata": {},
   "outputs": [],
   "source": [
    "def split_and_join(line):\n",
    "    # write your code here\n",
    "    return line.replace(' ', '-')"
   ]
  },
  {
   "cell_type": "markdown",
   "id": "reduced-burning",
   "metadata": {},
   "source": [
    "#### What's Your Name?"
   ]
  },
  {
   "cell_type": "code",
   "execution_count": null,
   "id": "express-patent",
   "metadata": {},
   "outputs": [],
   "source": [
    "def print_full_name(first, last):\n",
    "    # Write your code here\n",
    "    print('Hello {} {}! You just delved into python.'.format(first, last))"
   ]
  },
  {
   "cell_type": "markdown",
   "id": "basic-disaster",
   "metadata": {},
   "source": [
    "#### Mutations"
   ]
  },
  {
   "cell_type": "code",
   "execution_count": null,
   "id": "facial-holiday",
   "metadata": {},
   "outputs": [],
   "source": [
    "def mutate_string(string, position, character):\n",
    "    s = [i for i in string]\n",
    "    s[position] = c\n",
    "    return \"\".join(s)"
   ]
  },
  {
   "cell_type": "markdown",
   "id": "humanitarian-compound",
   "metadata": {},
   "source": [
    "#### Find a string"
   ]
  },
  {
   "cell_type": "code",
   "execution_count": null,
   "id": "duplicate-texture",
   "metadata": {},
   "outputs": [],
   "source": [
    "def count_substring(string, sub_string):\n",
    "    cont = 0\n",
    "    cursor = 0\n",
    "    for i in range(0, len(string) - 1):\n",
    "        if string[cursor: cursor + (len(sub_string))] == sub_string:\n",
    "            cont += 1\n",
    "        cursor += 1\n",
    "    return cont"
   ]
  },
  {
   "cell_type": "markdown",
   "id": "close-cancellation",
   "metadata": {},
   "source": [
    "#### String Validators"
   ]
  },
  {
   "cell_type": "code",
   "execution_count": null,
   "id": "endangered-works",
   "metadata": {},
   "outputs": [],
   "source": [
    "if __name__ == '__main__':\n",
    "    s = input()\n",
    "    print(any([i.isalnum() for i in s]),\n",
    "          any([i.isalpha() for i in s]),\n",
    "          any([i.isdigit() for i in s]),\n",
    "          any([i.islower() for i in s]),\n",
    "          any([i.isupper() for i in s]),\n",
    "          sep='\\n')"
   ]
  },
  {
   "cell_type": "markdown",
   "id": "dimensional-flour",
   "metadata": {},
   "source": [
    "#### Text Alignment"
   ]
  },
  {
   "cell_type": "code",
   "execution_count": null,
   "id": "rocky-current",
   "metadata": {},
   "outputs": [],
   "source": [
    "#Replace all ______ with rjust, ljust or center. \n",
    "\n",
    "thickness = int(input())\n",
    "if thickness%2 != 0: #This must be an odd number\n",
    "    c = 'H'\n",
    "\n",
    "    #Top Cone\n",
    "    for i in range(thickness):\n",
    "        print((c*i).rjust(thickness-1)+c+(c*i).ljust(thickness-1))\n",
    "\n",
    "    #Top Pillars\n",
    "    for i in range(thickness+1):\n",
    "        print((c*thickness).center(thickness*2)+(c*thickness).center(thickness*6))\n",
    "\n",
    "    #Middle Belt\n",
    "    for i in range((thickness+1)//2):\n",
    "        print((c*thickness*5).center(thickness*6))    \n",
    "\n",
    "    #Bottom Pillars\n",
    "    for i in range(thickness+1):\n",
    "        print((c*thickness).center(thickness*2)+(c*thickness).center(thickness*6))    \n",
    "\n",
    "    #Bottom Cone\n",
    "    for i in range(thickness):\n",
    "        print(((c*(thickness-i-1)).rjust(thickness)+c+(c*(thickness-i-1)).ljust(thickness)).rjust(thickness*6))"
   ]
  },
  {
   "cell_type": "markdown",
   "id": "incorrect-dancing",
   "metadata": {},
   "source": [
    "#### Text Wrap"
   ]
  },
  {
   "cell_type": "code",
   "execution_count": null,
   "id": "electoral-rates",
   "metadata": {},
   "outputs": [],
   "source": [
    "def wrap(string, max_width):\n",
    "    return textwrap.fill(string, max_width)"
   ]
  },
  {
   "cell_type": "markdown",
   "id": "growing-preserve",
   "metadata": {},
   "source": [
    "#### Designer Door Mat"
   ]
  },
  {
   "cell_type": "code",
   "execution_count": null,
   "id": "alert-abuse",
   "metadata": {},
   "outputs": [],
   "source": [
    "# Enter your code here. Read input from STDIN. Print output to STDOUT\n",
    "n, m = map(int, input().split())\n",
    "\n",
    "for i in range(0, n // 2):\n",
    "    s = '.|.' * (i * 2 + 1)\n",
    "    print(s.center(m,'-'))\n",
    "print('WELCOME'.center(m, '-'))\n",
    "\n",
    "for i in range(n // 2 - 1, -1, -1):\n",
    "    s = '.|.' * (i * 2 + 1)\n",
    "    print(s.center(m,'-'))"
   ]
  },
  {
   "cell_type": "markdown",
   "id": "choice-wellington",
   "metadata": {},
   "source": [
    "#### Alphabet Rangoli"
   ]
  },
  {
   "cell_type": "code",
   "execution_count": null,
   "id": "motivated-publication",
   "metadata": {},
   "outputs": [],
   "source": [
    "import string\n",
    "alphabet = string.ascii_lowercase\n",
    "def print_rangoli(size):\n",
    "    # your code goes here\n",
    "    L = []\n",
    "    for i in range(size):\n",
    "        s = \"-\".join(alphabet[i:n])\n",
    "        L.append((s[::-1]+s[1:]).center(4*n-3, \"-\"))\n",
    "    print('\\n'.join(L[:0:-1]+L))\n",
    "\n",
    "if __name__ == '__main__':\n",
    "    n = int(input())\n",
    "    print_rangoli(n)"
   ]
  },
  {
   "cell_type": "markdown",
   "id": "reported-scout",
   "metadata": {},
   "source": [
    "#### Capitalize!"
   ]
  },
  {
   "cell_type": "code",
   "execution_count": null,
   "id": "sudden-flashing",
   "metadata": {},
   "outputs": [],
   "source": [
    "# Complete the solve function below.\n",
    "def solve(s):\n",
    "    return ' '.join(i.capitalize() for i in s.split(' '))"
   ]
  },
  {
   "cell_type": "markdown",
   "id": "japanese-breeding",
   "metadata": {},
   "source": [
    "#### The Minion Game"
   ]
  },
  {
   "cell_type": "code",
   "execution_count": null,
   "id": "guilty-bonus",
   "metadata": {},
   "outputs": [],
   "source": [
    "def minion_game(string):\n",
    "    # your code goes here\n",
    "    vowels = 'AEIOU' \n",
    "    n = len(string)\n",
    "    Kevin = 0\n",
    "    Stuart  = 0\n",
    "    for i in range(n):\n",
    "        if string[i] in vowels:\n",
    "            Kevin += (len(string)-i)\n",
    "        else:\n",
    "            Stuart  += (len(string)-i)\n",
    "     \n",
    "    if Kevin > Stuart:\n",
    "        print('Kevin', Kevin) \n",
    "    elif Stuart> Kevin:\n",
    "        print('Stuart', Stuart)\n",
    "    else:\n",
    "        print('Draw')\n",
    "        \n",
    "\n",
    "if __name__ == '__main__':\n",
    "    s = input()\n",
    "    minion_game(s)"
   ]
  },
  {
   "cell_type": "markdown",
   "id": "ranging-belize",
   "metadata": {},
   "source": [
    "#### Merge the Tools!"
   ]
  },
  {
   "cell_type": "code",
   "execution_count": null,
   "id": "indoor-civilian",
   "metadata": {},
   "outputs": [],
   "source": [
    "def merge_the_tools(string, k):\n",
    "    # your code goes here\n",
    "    for i in range(0, len(string), k):\n",
    "        s = \"\"\n",
    "        for j in string[i : i + k]:\n",
    "            if j not in s:\n",
    "                s += j          \n",
    "        print(s)\n",
    "\n",
    "if __name__ == '__main__':\n",
    "    string, k = input(), int(input())\n",
    "    merge_the_tools(string, k)"
   ]
  },
  {
   "cell_type": "markdown",
   "id": "interpreted-watson",
   "metadata": {},
   "source": [
    "### 4. Sets"
   ]
  },
  {
   "cell_type": "markdown",
   "id": "forbidden-length",
   "metadata": {},
   "source": [
    "### Introduction to Sets"
   ]
  },
  {
   "cell_type": "code",
   "execution_count": null,
   "id": "framed-halifax",
   "metadata": {},
   "outputs": [],
   "source": [
    "def average(array):\n",
    "    # your code goes here\n",
    "    return sum(set(array))/len(set(array))"
   ]
  },
  {
   "cell_type": "markdown",
   "id": "imposed-mainstream",
   "metadata": {},
   "source": [
    "#### Symmetric difference"
   ]
  },
  {
   "cell_type": "code",
   "execution_count": null,
   "id": "opening-gather",
   "metadata": {},
   "outputs": [],
   "source": [
    "# Enter your code here. Read input from STDIN. Print output to STDOUT\n",
    "M = int(input())\n",
    "mset = set(map(int, input().split()))\n",
    "N = int(input())\n",
    "nset = set(map(int, input().split()))\n",
    "\n",
    "mdiff = mset.difference(nset)\n",
    "ndiff = nset.difference(mset)\n",
    "\n",
    "output = mdiff.union(ndiff)\n",
    "\n",
    "for i in sorted(list(output)):\n",
    "    print(i)"
   ]
  },
  {
   "cell_type": "markdown",
   "id": "standing-telescope",
   "metadata": {},
   "source": [
    "#### Set.add()"
   ]
  },
  {
   "cell_type": "code",
   "execution_count": null,
   "id": "verified-liberty",
   "metadata": {},
   "outputs": [],
   "source": [
    "# Enter your code here. Read input from STDIN. Print output to STDOUT\n",
    "\n",
    "N = int(input())\n",
    "if 0< N < 1000:\n",
    "    s = set()\n",
    "    for i in range(N):\n",
    "        x = input()\n",
    "        s.add(x)\n",
    "    print(len(s))"
   ]
  },
  {
   "cell_type": "markdown",
   "id": "unlikely-bacon",
   "metadata": {},
   "source": [
    "#### Set.discard(), .remove() & pop()"
   ]
  },
  {
   "cell_type": "code",
   "execution_count": null,
   "id": "mechanical-health",
   "metadata": {},
   "outputs": [],
   "source": [
    "n = int(input())\n",
    "s = set(map(int, input().split()))\n",
    "N = int(input())\n",
    "\n",
    "for i in range(N):\n",
    "    op = input().split()\n",
    "    if op[0]==\"pop\":\n",
    "        s.pop()\n",
    "    elif op[0]==\"remove\" :\n",
    "        s.remove(int(op[1]))\n",
    "    elif op[0]==\"discard\" :\n",
    "        s.discard(int(op[1]))\n",
    "        \n",
    "print(sum(s))"
   ]
  },
  {
   "cell_type": "markdown",
   "id": "apart-representative",
   "metadata": {},
   "source": [
    "#### Set .union() Operation"
   ]
  },
  {
   "cell_type": "code",
   "execution_count": null,
   "id": "minute-transmission",
   "metadata": {},
   "outputs": [],
   "source": [
    "# Enter your code here. Read input from STDIN. Print output to STDOUT\n",
    "\n",
    "\n",
    "nE = int(input())\n",
    "E = set(map(int, input().split()))\n",
    "nF = int(input())\n",
    "F = set(map(int, input().split()))\n",
    "print(len(E.union(F)))"
   ]
  },
  {
   "cell_type": "markdown",
   "id": "severe-olympus",
   "metadata": {},
   "source": [
    "#### Set.intersection() Operation"
   ]
  },
  {
   "cell_type": "code",
   "execution_count": null,
   "id": "raised-seventh",
   "metadata": {},
   "outputs": [],
   "source": [
    "# Enter your code here. Read input from STDIN. Print output to STDOUT\n",
    "\n",
    "nE = int(input())\n",
    "sE = set(map(int, input().split()))\n",
    "nF = int(input())\n",
    "sF = set(map(int, input().split()))\n",
    "print(len(sE.intersection(sF)))"
   ]
  },
  {
   "cell_type": "markdown",
   "id": "disciplinary-batch",
   "metadata": {},
   "source": [
    "#### Set.difference() Operation"
   ]
  },
  {
   "cell_type": "code",
   "execution_count": null,
   "id": "separated-seating",
   "metadata": {},
   "outputs": [],
   "source": [
    "# Enter your code here. Read input from STDIN. Print output to STDOUT\n",
    "nE = int(input())\n",
    "sE = set(map(int, input().split()))\n",
    "nF = int(input())\n",
    "sF = set(map(int, input().split()))\n",
    "print(len(sE.difference(sF)))"
   ]
  },
  {
   "cell_type": "markdown",
   "id": "brilliant-numbers",
   "metadata": {},
   "source": [
    "#### Set.symmetric_difference() Operation"
   ]
  },
  {
   "cell_type": "code",
   "execution_count": null,
   "id": "other-windsor",
   "metadata": {},
   "outputs": [],
   "source": [
    "# Enter your code here. Read input from STDIN. Print output to STDOUT\n",
    "\n",
    "nE = int(input())\n",
    "sE = set(map(int, input().split()))\n",
    "nF = int(input())\n",
    "sF = set(map(int, input().split()))\n",
    "print(len(sE.symmetric_difference(sF)))"
   ]
  },
  {
   "cell_type": "markdown",
   "id": "located-holly",
   "metadata": {},
   "source": [
    "#### Set Mutations"
   ]
  },
  {
   "cell_type": "code",
   "execution_count": null,
   "id": "cooperative-switzerland",
   "metadata": {},
   "outputs": [],
   "source": [
    "# Enter your code here. Read input from STDIN. Print output to STDOUT\n",
    "\n",
    "nA = int(input())\n",
    "A = set(map(int, input().split()))\n",
    "nS = int(input())\n",
    "\n",
    "for _ in range(nS):\n",
    "    op, size = input().split()\n",
    "    S = set(map(int, input().split()))\n",
    "    eval('A.'+op+'(S)')\n",
    "\n",
    "print(sum(A))"
   ]
  },
  {
   "cell_type": "markdown",
   "id": "underlying-statement",
   "metadata": {},
   "source": [
    "#### The Captain's Room"
   ]
  },
  {
   "cell_type": "code",
   "execution_count": null,
   "id": "excess-celebrity",
   "metadata": {},
   "outputs": [],
   "source": [
    "# Enter your code here. Read input from STDIN. Print output to STDOUT\n",
    "\n",
    "k = int(input())\n",
    "rooms = list(map(int, input().split()))\n",
    "\n",
    "s = set(rooms)\n",
    "captain = ((sum(s)*k)-(sum(rooms)))//(k-1)\n",
    "print(captain)"
   ]
  },
  {
   "cell_type": "markdown",
   "id": "comparable-athens",
   "metadata": {},
   "source": [
    "#### Check Subset"
   ]
  },
  {
   "cell_type": "code",
   "execution_count": null,
   "id": "dental-candle",
   "metadata": {},
   "outputs": [],
   "source": [
    "# Enter your code here. Read input from STDIN. Print output to STDOUT\n",
    "\n",
    "T = int(input())\n",
    "res = []\n",
    "for i in range(T):\n",
    "    nA = int(input())\n",
    "    A = set(map(int, input().split()))\n",
    "    nB = int(input())\n",
    "    B = set(map(int, input().split()))\n",
    "    res.append(A.issubset(B))\n",
    "for i in res:\n",
    "    print(i)"
   ]
  },
  {
   "cell_type": "markdown",
   "id": "valued-wellington",
   "metadata": {},
   "source": [
    "#### Check Strict Superset"
   ]
  },
  {
   "cell_type": "code",
   "execution_count": null,
   "id": "reverse-reputation",
   "metadata": {},
   "outputs": [],
   "source": [
    "A = set(map(int, input().split()))\n",
    "n = int(input())\n",
    "res = []\n",
    "for i in range(n):\n",
    "    s = set(map(int, input().split()))\n",
    "    if s.issubset(A):\n",
    "        if len(A) != len(s):\n",
    "            res.append(1)\n",
    "    else:\n",
    "        res.append(0)\n",
    "\n",
    "if sum(res) < len(res):\n",
    "    print(False)\n",
    "else:\n",
    "    print(True)"
   ]
  },
  {
   "cell_type": "markdown",
   "id": "moderate-silver",
   "metadata": {},
   "source": [
    "#### No Idea!"
   ]
  },
  {
   "cell_type": "code",
   "execution_count": null,
   "id": "nutritional-margin",
   "metadata": {},
   "outputs": [],
   "source": [
    "# Enter your code here. Read input from STDIN. Print output to STDOUT\n",
    "\n",
    "nm = map(int, input().split())\n",
    "arr = list(map(int, input().split()))\n",
    "A = set(map(int, input().split()))\n",
    "B = set(map(int, input().split()))\n",
    "\n",
    "happiness = 0\n",
    "for i in arr:\n",
    "    if i in A:\n",
    "        happiness +=1\n",
    "    if i in B:\n",
    "        happiness -=1\n",
    "    else:\n",
    "        pass\n",
    "print(happiness)"
   ]
  },
  {
   "cell_type": "markdown",
   "id": "thrown-finger",
   "metadata": {},
   "source": [
    "### 5. Collections"
   ]
  },
  {
   "cell_type": "markdown",
   "id": "toxic-dragon",
   "metadata": {},
   "source": [
    "#### collections.Counter()"
   ]
  },
  {
   "cell_type": "code",
   "execution_count": null,
   "id": "fossil-journalism",
   "metadata": {},
   "outputs": [],
   "source": [
    "# Enter your code here. Read input from STDIN. Print output to STDOUT\n",
    "\n",
    "from collections import Counter\n",
    "n = int(input())\n",
    "shoes = list(map(int, input().split()))\n",
    "N = int(input())\n",
    "c = Counter(shoes)\n",
    "\n",
    "money = 0\n",
    "for i in range(N):\n",
    "    purchase = list(map(int, input().split()))\n",
    "    if c[purchase[0]] > 0:\n",
    "        money += purchase[1]\n",
    "        c[purchase[0]] -=1\n",
    "print(money)"
   ]
  },
  {
   "cell_type": "markdown",
   "id": "funky-taxation",
   "metadata": {},
   "source": [
    "#### DefatultDict Tutorial"
   ]
  },
  {
   "cell_type": "code",
   "execution_count": null,
   "id": "fifth-appendix",
   "metadata": {},
   "outputs": [],
   "source": [
    "# Enter your code here. Read input from STDIN. Print output to STDOUT\n",
    "\n",
    "\n",
    "from collections import defaultdict\n",
    "\n",
    "n,m = list(map(int,input().split()))\n",
    "d = defaultdict(list)\n",
    "for i in range(n):\n",
    "    d[input()].append(i+1)\n",
    "for i in range(m):\n",
    "    print(*d[input()] or [-1])"
   ]
  },
  {
   "cell_type": "markdown",
   "id": "nutritional-necessity",
   "metadata": {},
   "source": [
    "#### Collections.namedtuple()"
   ]
  },
  {
   "cell_type": "code",
   "execution_count": null,
   "id": "passing-louis",
   "metadata": {},
   "outputs": [],
   "source": [
    "# Enter your code here. Read input from STDIN. Print output to STDOUT\n",
    "\n",
    "from collections import namedtuple\n",
    "\n",
    "n = int(input())\n",
    "cols = input().split()\n",
    "Student = namedtuple('Student', cols)\n",
    "marks = 0\n",
    "for i in range(n):\n",
    "    col1, col2, col3, col4 = input().split()\n",
    "    s = Student(col1, col2, col3, col4)\n",
    "    marks += int(s.MARKS)\n",
    "\n",
    "print(marks / n)"
   ]
  },
  {
   "cell_type": "markdown",
   "id": "psychological-madrid",
   "metadata": {},
   "source": [
    "#### Collections.OrderedDict()"
   ]
  },
  {
   "cell_type": "code",
   "execution_count": null,
   "id": "southwest-dialogue",
   "metadata": {},
   "outputs": [],
   "source": [
    "# Enter your code here. Read input from STDIN. Print output to STDOUT\n",
    "\n",
    "from collections import OrderedDict\n",
    "\n",
    "x = OrderedDict()\n",
    "\n",
    "for _ in range(int(input())):\n",
    "    item, space, quantity = input().rpartition(' ')\n",
    "    x[item] = x.get(item, 0) + int(quantity)\n",
    "    \n",
    "for item, quantity in x.items():\n",
    "    print(item, quantity)"
   ]
  },
  {
   "cell_type": "markdown",
   "id": "precise-intervention",
   "metadata": {},
   "source": [
    "#### Word Order"
   ]
  },
  {
   "cell_type": "code",
   "execution_count": null,
   "id": "athletic-swing",
   "metadata": {},
   "outputs": [],
   "source": [
    "# Enter your code here. Read input from STDIN. Print output to STDOUT\n",
    "import collections\n",
    "\n",
    "n = int(input())\n",
    "d = collections.OrderedDict()\n",
    "#words = [input() for i in range(n)]\n",
    "\n",
    "for i in range(n):\n",
    "    word = input()\n",
    "    if not word in d.keys():\n",
    "        d.update({word : 1})\n",
    "        continue\n",
    "    d[word] += 1\n",
    "\n",
    "print(len(d.keys()))\n",
    "print(*d.values())"
   ]
  },
  {
   "cell_type": "markdown",
   "id": "sexual-wyoming",
   "metadata": {},
   "source": [
    "#### Collections.deque()"
   ]
  },
  {
   "cell_type": "code",
   "execution_count": null,
   "id": "angry-hampton",
   "metadata": {},
   "outputs": [],
   "source": [
    "# Enter your code here. Read input from STDIN. Print output to STDOUT\n",
    "#Perform append, pop, popleft and appendleft methods on an empty deque .\n",
    "from collections import deque\n",
    "d = deque()\n",
    "\n",
    "N = int(input())\n",
    "for _ in range(N):\n",
    "    op, *num = input().split()\n",
    "    eval('d.'+op+'(*num)')\n",
    "\n",
    "[print(i, end=' ') for i in d]"
   ]
  },
  {
   "cell_type": "markdown",
   "id": "advised-soundtrack",
   "metadata": {},
   "source": [
    "#### Company Logo"
   ]
  },
  {
   "cell_type": "code",
   "execution_count": null,
   "id": "disciplinary-showcase",
   "metadata": {},
   "outputs": [],
   "source": [
    "#!/bin/python3\n",
    "\n",
    "import math\n",
    "import os\n",
    "import random\n",
    "import re\n",
    "import sys\n",
    "\n",
    "from collections import Counter, OrderedDict\n",
    "\n",
    "\n",
    "if __name__ == '__main__':\n",
    "    s = input()\n",
    "    class OrderedCounter(Counter, OrderedDict):\n",
    "        pass\n",
    "    [print(*i) for i in OrderedCounter(sorted(s)).most_common(3)]"
   ]
  },
  {
   "cell_type": "markdown",
   "id": "accredited-laptop",
   "metadata": {},
   "source": [
    "#### Piling Up!"
   ]
  },
  {
   "cell_type": "code",
   "execution_count": null,
   "id": "superb-decimal",
   "metadata": {},
   "outputs": [],
   "source": [
    "from collections import deque\n",
    "\n",
    "N = int(input())\n",
    "\n",
    "for _ in range(N):\n",
    "    flag = True\n",
    "    input()\n",
    "    d = deque(map(int, input().strip().split()))\n",
    "    if(d[0] >= d[-1]):\n",
    "        max = d.popleft()\n",
    "    else:\n",
    "        max = d.pop()\n",
    "    while d:\n",
    "        if(len(d)==1):\n",
    "            if(d[0] <= max):\n",
    "                break\n",
    "            else:\n",
    "                flag = False\n",
    "                break\n",
    "        else:\n",
    "            if(d[0]<=max and d[-1]<=max):\n",
    "                if(d[0]>=d[-1]):\n",
    "                    max = d.popleft()\n",
    "                else:\n",
    "                    max = d.pop()\n",
    "            elif(d[0]<=max):\n",
    "                max = d.popleft()\n",
    "            elif(d[-1]<=max):\n",
    "                max = d.pop()\n",
    "            else:\n",
    "                flag = False\n",
    "                break\n",
    "    if flag:\n",
    "        print(\"Yes\")\n",
    "    else:\n",
    "        print(\"No\")"
   ]
  },
  {
   "cell_type": "markdown",
   "id": "immune-mexico",
   "metadata": {},
   "source": [
    "### 6. Date and Time"
   ]
  },
  {
   "cell_type": "markdown",
   "id": "frank-cologne",
   "metadata": {},
   "source": [
    "#### Calendar Module"
   ]
  },
  {
   "cell_type": "code",
   "execution_count": null,
   "id": "north-dialogue",
   "metadata": {},
   "outputs": [],
   "source": [
    "# Enter your code here. Read input from STDIN. Print output to STDOUT\n",
    "\n",
    "import calendar\n",
    "m, d, y = map(int, input().split())\n",
    "print(calendar.day_name[(calendar.weekday(y,m,d))].upper())"
   ]
  },
  {
   "cell_type": "markdown",
   "id": "defined-expression",
   "metadata": {},
   "source": [
    "#### Time Delta"
   ]
  },
  {
   "cell_type": "code",
   "execution_count": null,
   "id": "intensive-denmark",
   "metadata": {},
   "outputs": [],
   "source": [
    "import datetime\n",
    "\n",
    "t = int(input())\n",
    "\n",
    "for t_itr in range(t):\n",
    "    t1 = input()\n",
    "    t2 = input()\n",
    "    time1 = datetime.datetime.strptime(t1, '%a %d %b %Y %H:%M:%S %z')\n",
    "    time2 = datetime.datetime.strptime(t2, '%a %d %b %Y %H:%M:%S %z')\n",
    "    print(int(abs((time1 - time2).total_seconds())))"
   ]
  },
  {
   "cell_type": "markdown",
   "id": "outdoor-divorce",
   "metadata": {},
   "source": [
    "### 7. Exceptions"
   ]
  },
  {
   "cell_type": "markdown",
   "id": "champion-toner",
   "metadata": {},
   "source": [
    "#### Exceptions"
   ]
  },
  {
   "cell_type": "code",
   "execution_count": null,
   "id": "included-tutorial",
   "metadata": {},
   "outputs": [],
   "source": [
    "# Enter your code here. Read input from STDIN. Print output to STDOUT\n",
    "\n",
    "n = int(input())\n",
    "for i in range(n):\n",
    "    a,b = input().split()\n",
    "    try:\n",
    "        print(int(a)//int(b))\n",
    "    except (ZeroDivisionError, ValueError) as e:\n",
    "        print('Error Code:', e)"
   ]
  },
  {
   "cell_type": "markdown",
   "id": "ongoing-parade",
   "metadata": {},
   "source": [
    "### 8. Built.ins"
   ]
  },
  {
   "cell_type": "markdown",
   "id": "daily-wisdom",
   "metadata": {},
   "source": [
    "#### Zipped!"
   ]
  },
  {
   "cell_type": "code",
   "execution_count": null,
   "id": "meaning-trash",
   "metadata": {},
   "outputs": [],
   "source": [
    "# Enter your code here. Read input from STDIN. Print output to STDOUT\n",
    "\n",
    "N, X = map(int, input().split())\n",
    "marks =[]\n",
    "for i in range(X):\n",
    "    sj = input().split()\n",
    "    sj = [float(i) for i in sj]\n",
    "    marks.append(sj)\n",
    "    x = list(zip(*marks))\n",
    "\n",
    "for i in x:\n",
    "    print(sum(i)/len(i))"
   ]
  },
  {
   "cell_type": "markdown",
   "id": "dimensional-kidney",
   "metadata": {},
   "source": [
    "#### Athlete Sort"
   ]
  },
  {
   "cell_type": "code",
   "execution_count": null,
   "id": "sublime-intention",
   "metadata": {},
   "outputs": [],
   "source": [
    "#!/bin/python3\n",
    "\n",
    "import math\n",
    "import os\n",
    "import random\n",
    "import re\n",
    "import sys\n",
    "\n",
    "\n",
    "\n",
    "if __name__ == '__main__':\n",
    "    nm = input().split()\n",
    "\n",
    "    n = int(nm[0])\n",
    "\n",
    "    m = int(nm[1])\n",
    "\n",
    "    arr = []\n",
    "\n",
    "    for _ in range(n):\n",
    "        arr.append(list(map(int, input().rstrip().split())))\n",
    "\n",
    "    k = int(input())\n",
    "\n",
    "    ordr = (sorted(arr, key=lambda student: student[k]))\n",
    "    for i in ordr:\n",
    "        print(*i)"
   ]
  },
  {
   "cell_type": "markdown",
   "id": "square-hollywood",
   "metadata": {},
   "source": [
    "#### ginortS"
   ]
  },
  {
   "cell_type": "code",
   "execution_count": null,
   "id": "urban-findings",
   "metadata": {},
   "outputs": [],
   "source": [
    "# Enter your code here. Read input from STDIN. Print output to STDOUT\n",
    "\n",
    "s = input()\n",
    "\n",
    "digits = [i for i in s if i.isdigit()]\n",
    "even = [i for i in digits if (int(i)%2 == 0)]\n",
    "odd = [i for i in digits if i not in even]\n",
    "lower = [i for i in s if i not in digits and i.lower() == i]\n",
    "upper = [i for i in s if i not in digits and i.upper() == i]\n",
    "\n",
    "total = sorted(lower) + sorted(upper) + sorted(odd) + sorted(even)\n",
    "\n",
    "a_string = \"\".join(total)\n",
    "\n",
    "print(a_string)"
   ]
  },
  {
   "cell_type": "markdown",
   "id": "focused-municipality",
   "metadata": {},
   "source": [
    "### 9. Python Functionals"
   ]
  },
  {
   "cell_type": "markdown",
   "id": "alleged-magic",
   "metadata": {},
   "source": [
    "#### Map and Lambda Function"
   ]
  },
  {
   "cell_type": "code",
   "execution_count": null,
   "id": "nutritional-grocery",
   "metadata": {},
   "outputs": [],
   "source": [
    "cube = lambda x: x**3# complete the lambda function \n",
    "\n",
    "#then populate the list by calling the fibonacci function\n",
    "    \n",
    "def fibonacci(n):\n",
    "    # return a list of fibonacci numbers\n",
    "    fib = [0,1]\n",
    "    [fib.append(fib[i-2]+fib[i-1]) for i in range(2,n)]\n",
    "    return fib[0:n]"
   ]
  },
  {
   "cell_type": "markdown",
   "id": "satisfactory-fifteen",
   "metadata": {},
   "source": [
    "### 10. Regex and Parsing challenges"
   ]
  },
  {
   "cell_type": "markdown",
   "id": "characteristic-administrator",
   "metadata": {},
   "source": [
    "#### Detect Floating Point Number"
   ]
  },
  {
   "cell_type": "code",
   "execution_count": null,
   "id": "durable-settle",
   "metadata": {},
   "outputs": [],
   "source": [
    "# Enter your code here. Read input from STDIN. Print output to STDOUT\n",
    "import re\n",
    "\n",
    "T = int(input())\n",
    "\n",
    "for i in range(T):\n",
    "    N = input()\n",
    "    print(bool(re.match(r\"^[-+]?[0-9]*\\.[0-9]+$\",N)))"
   ]
  },
  {
   "cell_type": "markdown",
   "id": "personalized-parameter",
   "metadata": {},
   "source": [
    "#### Re.split()"
   ]
  },
  {
   "cell_type": "code",
   "execution_count": null,
   "id": "strategic-freeware",
   "metadata": {},
   "outputs": [],
   "source": [
    "regex_pattern = r\"[.,]\"\n",
    "\n",
    "import re\n",
    "print(\"\\n\".join(re.split(regex_pattern, input())))"
   ]
  },
  {
   "cell_type": "markdown",
   "id": "based-fancy",
   "metadata": {},
   "source": [
    "#### Group(), Groups() & Groupdict()"
   ]
  },
  {
   "cell_type": "code",
   "execution_count": null,
   "id": "fitted-limit",
   "metadata": {},
   "outputs": [],
   "source": [
    "# Enter your code here. Read input from STDIN. Print output to STDOUT\n",
    "\n",
    "import re\n",
    "s = input()\n",
    "m = re.search(r'([a-z0-9])\\1+', s)\n",
    "if m is None:\n",
    "    print(-1)\n",
    "else:\n",
    "    print(m.group(0)[1])"
   ]
  },
  {
   "cell_type": "markdown",
   "id": "senior-adoption",
   "metadata": {},
   "source": [
    "#### Re.findall() & Re.finditer()"
   ]
  },
  {
   "cell_type": "code",
   "execution_count": null,
   "id": "upper-prisoner",
   "metadata": {},
   "outputs": [],
   "source": [
    "# Enter your code here. Read input from STDIN. Print output to STDOUT\n",
    "import re\n",
    "s = input()\n",
    "\n",
    "find = re.findall(r\"(?<=[^aeiou])([aeiou]{2,})(?=[^aeiou])\", s, re.IGNORECASE)\n",
    "if find:\n",
    "    for i in find:\n",
    "        print(i)\n",
    "else:\n",
    "    print(-1)"
   ]
  },
  {
   "cell_type": "markdown",
   "id": "continent-chassis",
   "metadata": {},
   "source": [
    "#### Re.start() & Re.end()"
   ]
  },
  {
   "cell_type": "code",
   "execution_count": null,
   "id": "headed-moscow",
   "metadata": {},
   "outputs": [],
   "source": [
    "# Enter your code here. Read input from STDIN. Print output to STDOUT\n",
    "import re\n",
    "\n",
    "s = input()\n",
    "k = input()\n",
    "\n",
    "is_match = False\n",
    "i = 0\n",
    "\n",
    "while len(s) > i:\n",
    "    m = re.match(k,s[i:])\n",
    "    if m:\n",
    "        is_match = True\n",
    "        res = m.start() + i, m.end() + i - 1\n",
    "        print(res)       \n",
    "    i += 1\n",
    "\n",
    "if not is_match:\n",
    "    print((-1,-1))"
   ]
  },
  {
   "cell_type": "markdown",
   "id": "cathedral-organ",
   "metadata": {},
   "source": [
    "#### Regex Substitution"
   ]
  },
  {
   "cell_type": "code",
   "execution_count": null,
   "id": "steady-decrease",
   "metadata": {},
   "outputs": [],
   "source": [
    "# Enter your code here. Read input from STDIN. Print output to STDOUT\n",
    "import re\n",
    "n = int(input())\n",
    "\n",
    "for _ in range(n):\n",
    "    new_s=re.sub(' \\|\\| ', ' or ', re.sub(' && ', ' and ', input())) \n",
    "    print(re.sub(' \\|\\| ', ' or ', re.sub(' && ', ' and ', new_s)))"
   ]
  },
  {
   "cell_type": "markdown",
   "id": "aboriginal-jungle",
   "metadata": {},
   "source": [
    "#### Validation Roman Numerals"
   ]
  },
  {
   "cell_type": "code",
   "execution_count": null,
   "id": "instructional-irish",
   "metadata": {},
   "outputs": [],
   "source": [
    "regex_pattern = r\"^M{0,3}(CM|CD|D?C{0,3})(XC|XL|L?X{0,3})(IX|IV|V?I{0,3})$\"\t# Do not delete 'r'.\n",
    "\n",
    "import re\n",
    "print(str(bool(re.match(regex_pattern, input()))))"
   ]
  },
  {
   "cell_type": "markdown",
   "id": "qualified-restriction",
   "metadata": {},
   "source": [
    "#### Validating phone numbers"
   ]
  },
  {
   "cell_type": "code",
   "execution_count": null,
   "id": "physical-announcement",
   "metadata": {},
   "outputs": [],
   "source": [
    "# Enter your code here. Read input from STDIN. Print output to STDOUT\n",
    "import re\n",
    "n = int(input())\n",
    "for i in range(n):\n",
    "    number = input()\n",
    "    if (re.match('^[0-9]*$', number)) and (len(number) == 10) and (number.startswith('7') or number.startswith('8') or number.startswith('9')):\n",
    "        print('YES')\n",
    "    else:\n",
    "        print('NO')"
   ]
  },
  {
   "cell_type": "markdown",
   "id": "saved-taste",
   "metadata": {},
   "source": [
    "#### Validating and Parsing Email Addresses"
   ]
  },
  {
   "cell_type": "code",
   "execution_count": null,
   "id": "loaded-relation",
   "metadata": {},
   "outputs": [],
   "source": [
    "# Enter your code here. Read input from STDIN. Print output to STDOUT\n",
    "\n",
    "import email.utils\n",
    "import re\n",
    "\n",
    "n = int(input())\n",
    "\n",
    "for _ in range(n):\n",
    "    name, address = email.utils.parseaddr(input())\n",
    "    if re.match(r\"^[a-zA-Z][\\w\\-.]*@[a-zA-Z]+\\.[a-zA-Z]{1,3}$\",address):\n",
    "        print(email.utils.formataddr((name, address)))"
   ]
  },
  {
   "cell_type": "markdown",
   "id": "closing-generator",
   "metadata": {},
   "source": [
    "#### Hex Color Code"
   ]
  },
  {
   "cell_type": "code",
   "execution_count": null,
   "id": "thrown-insurance",
   "metadata": {},
   "outputs": [],
   "source": [
    "# Enter your code here. Read input from STDIN. Print output to STDOUT\n",
    "\n",
    "import re\n",
    "n = int(input())\n",
    "pattern=r'(#[0-9a-fA-F]{3,6}){1,2}[^\\n ]'\n",
    "for _ in range(n):\n",
    "    for x in re.findall(pattern,input()):\n",
    "        print(x)"
   ]
  },
  {
   "cell_type": "markdown",
   "id": "related-coupon",
   "metadata": {},
   "source": [
    "#### HTML Parser - Part 1"
   ]
  },
  {
   "cell_type": "code",
   "execution_count": null,
   "id": "retired-physics",
   "metadata": {},
   "outputs": [],
   "source": [
    "# Enter your code here. Read input from STDIN. Print output to STDOUT\n",
    "\n",
    "from html.parser import HTMLParser\n",
    "\n",
    "class MyHTMLParser(HTMLParser):\n",
    "    def handle_starttag(self, tag, attrs):        \n",
    "        print ('Start :',tag)\n",
    "        for i in attrs:\n",
    "            print ('->',i[0],'>',i[1])\n",
    "            \n",
    "    def handle_endtag(self, tag):\n",
    "        print ('End   :',tag)\n",
    "        \n",
    "    def handle_startendtag(self, tag, attrs):\n",
    "        print ('Empty :',tag)\n",
    "        for i in attrs:\n",
    "            print ('->',i[0],'>',i[1])\n",
    "            \n",
    "parser = MyHTMLParser()\n",
    "parser.feed(''.join([input().strip() for _ in range(int(input()))]))"
   ]
  },
  {
   "cell_type": "markdown",
   "id": "angry-precipitation",
   "metadata": {},
   "source": [
    "#### HTML Parser - Part 2"
   ]
  },
  {
   "cell_type": "code",
   "execution_count": null,
   "id": "aerial-curtis",
   "metadata": {},
   "outputs": [],
   "source": [
    "from html.parser import HTMLParser\n",
    "\n",
    "class MyHTMLParser(HTMLParser):\n",
    "  \n",
    "    def handle_comment(self, comment):\n",
    "        if '\\n' in comment:\n",
    "            print('>>> Multi-line Comment')\n",
    "        else:\n",
    "            print('>>> Single-line Comment')\n",
    "            \n",
    "        print(comment)\n",
    "    \n",
    "    def handle_data(self, data):\n",
    "        if data == '\\n': return\n",
    "        print('>>> Data')\n",
    "        print(data)  \n",
    "  \n",
    "  \n",
    "html = \"\"       \n",
    "for i in range(int(input())):\n",
    "    html += input().rstrip()\n",
    "    html += '\\n'\n",
    "    \n",
    "parser = MyHTMLParser()\n",
    "parser.feed(html)\n",
    "parser.close()"
   ]
  },
  {
   "cell_type": "markdown",
   "id": "norman-recipe",
   "metadata": {},
   "source": [
    "#### Detect HTML Tags, Attributes and Attribute Values"
   ]
  },
  {
   "cell_type": "code",
   "execution_count": null,
   "id": "educated-steel",
   "metadata": {},
   "outputs": [],
   "source": [
    "# Enter your code here. Read input from STDIN. Print output to STDOUT\n",
    "\n",
    "import re\n",
    "n = int(input())\n",
    "text = ''\n",
    "for _ in range(n):\n",
    "    text = re.sub(r'<!.+-->',r' ',(text+input()))\n",
    "\n",
    "for i in re.findall(r'<([^/][^>]*)>', text):\n",
    "    if ' ' in i:       \n",
    "        for j in re.findall(r'([a-z]+)? *([a-z-]+)=\"([^\"]+)', i):\n",
    "            if j[0]:\n",
    "                print(j[0])          \n",
    "            print('-> '+j[1]+' > '+j[2])\n",
    "    else:\n",
    "        print(i)"
   ]
  },
  {
   "cell_type": "markdown",
   "id": "separated-grant",
   "metadata": {},
   "source": [
    "#### Validating UID"
   ]
  },
  {
   "cell_type": "code",
   "execution_count": null,
   "id": "twenty-anniversary",
   "metadata": {},
   "outputs": [],
   "source": [
    "# Enter your code here. Read input from STDIN. Print output to STDOUT\n",
    "import re\n",
    "for i in range(int(input())):\n",
    "    uid = input()\n",
    "    if re.match(r'^(?=(?:[a-z\\d]*[A-Z]){2})(?=(?:\\D*\\d){3})(?:([a-zA-Z\\d])(?!.*\\1)){10}$', uid):\n",
    "        print('Valid')\n",
    "    else:\n",
    "        print('Invalid')      "
   ]
  },
  {
   "cell_type": "markdown",
   "id": "included-stuff",
   "metadata": {},
   "source": [
    "#### Validating Credit Card Numbers"
   ]
  },
  {
   "cell_type": "code",
   "execution_count": null,
   "id": "minute-genesis",
   "metadata": {},
   "outputs": [],
   "source": [
    "# Enter your code here. Read input from STDIN. Print output to STDOUT\n",
    "\n",
    "import re\n",
    "\n",
    "n = int(input())\n",
    "\n",
    "pattern1 = r\"^[456]([\\d]{15}|[\\d]{3}(-[\\d]{4}){3})$\"\n",
    "pattern2 = r\"([\\d])\\1\\1\\1\"\n",
    "\n",
    "for _ in range(n):\n",
    "    s = input()\n",
    "\n",
    "    if re.match(pattern1, s) and not re.search(pattern2, s.replace(\"-\", \"\")):\n",
    "        print(\"Valid\")\n",
    "    else:\n",
    "        print(\"Invalid\")"
   ]
  },
  {
   "cell_type": "markdown",
   "id": "illegal-premium",
   "metadata": {},
   "source": [
    "#### Validating Postal Codes"
   ]
  },
  {
   "cell_type": "code",
   "execution_count": null,
   "id": "musical-snowboard",
   "metadata": {},
   "outputs": [],
   "source": [
    "regex_integer_in_range = r\"^[1-9][0-9]{5}$\"\t# Do not delete 'r'.\n",
    "regex_alternating_repetitive_digit_pair = r\"(\\d)(?=.\\1)\"\t# Do not delete 'r'.\n",
    "\n",
    "\n",
    "import re\n",
    "P = input()\n",
    "\n",
    "print (bool(re.match(regex_integer_in_range, P)) \n",
    "and len(re.findall(regex_alternating_repetitive_digit_pair, P)) < 2)"
   ]
  },
  {
   "cell_type": "markdown",
   "id": "presidential-keyboard",
   "metadata": {},
   "source": [
    "#### Matrix Script"
   ]
  },
  {
   "cell_type": "code",
   "execution_count": null,
   "id": "higher-planner",
   "metadata": {},
   "outputs": [],
   "source": [
    "#!/bin/python3\n",
    "\n",
    "import math\n",
    "import os\n",
    "import random\n",
    "import re\n",
    "import sys\n",
    "\n",
    "\n",
    "\n",
    "\n",
    "first_multiple_input = input().rstrip().split()\n",
    "\n",
    "n = int(first_multiple_input[0])\n",
    "\n",
    "m = int(first_multiple_input[1])\n",
    "\n",
    "matrix = []\n",
    "\n",
    "for _ in range(n):\n",
    "    matrix_item = input()\n",
    "    matrix.append(matrix_item)\n",
    "\n",
    "script = [l[i] for i in range(m) for l in matrix]\n",
    "script = ''.join(script)\n",
    "\n",
    "script = re.sub(r'([A-Za-z0-9])[!@#$%&\\s]+(?=[A-Za-z0-9])',r'\\1 ', script)\n",
    "\n",
    "print(script)"
   ]
  },
  {
   "cell_type": "markdown",
   "id": "organizational-asthma",
   "metadata": {},
   "source": [
    "### 11. XML"
   ]
  },
  {
   "cell_type": "markdown",
   "id": "thousand-thumb",
   "metadata": {},
   "source": [
    "#### XML 1- Find the Score"
   ]
  },
  {
   "cell_type": "code",
   "execution_count": null,
   "id": "balanced-large",
   "metadata": {},
   "outputs": [],
   "source": [
    "import sys\n",
    "import xml.etree.ElementTree as etree\n",
    "\n",
    "def get_attr_number(node):\n",
    "    # your code goes here\n",
    "    return sum(len(i.attrib) for i in node.iter())\n",
    "if __name__ == '__main__':\n",
    "    sys.stdin.readline()\n",
    "    xml = sys.stdin.read()\n",
    "    tree = etree.ElementTree(etree.fromstring(xml))\n",
    "    root = tree.getroot()\n",
    "    print(get_attr_number(root))"
   ]
  },
  {
   "cell_type": "markdown",
   "id": "derived-compromise",
   "metadata": {},
   "source": [
    "#### XML 2- Find the Maximum Depth"
   ]
  },
  {
   "cell_type": "code",
   "execution_count": null,
   "id": "recent-filling",
   "metadata": {},
   "outputs": [],
   "source": [
    "import xml.etree.ElementTree as etree\n",
    "\n",
    "maxdepth = 0\n",
    "def depth(elem, level):\n",
    "    global maxdepth\n",
    "    # your code goes here\n",
    "    level += 1\n",
    "    if level >= maxdepth:\n",
    "        maxdepth = level\n",
    "    for i in elem:\n",
    "        depth(i, level)\n",
    "        \n",
    "if __name__ == '__main__':\n",
    "    n = int(input())\n",
    "    xml = \"\"\n",
    "    for i in range(n):\n",
    "        xml =  xml + input() + \"\\n\"\n",
    "    tree = etree.ElementTree(etree.fromstring(xml))\n",
    "    depth(tree.getroot(), -1)\n",
    "    print(maxdepth)"
   ]
  },
  {
   "cell_type": "markdown",
   "id": "distributed-pitch",
   "metadata": {},
   "source": [
    "### 12. Closures and Decorations"
   ]
  },
  {
   "cell_type": "markdown",
   "id": "tough-import",
   "metadata": {},
   "source": [
    "#### Standardize Mobile Numbers Using Decorators"
   ]
  },
  {
   "cell_type": "code",
   "execution_count": null,
   "id": "growing-probe",
   "metadata": {},
   "outputs": [],
   "source": [
    "def wrapper(f):\n",
    "    def fun(l):\n",
    "        # complete the function\n",
    "        f(\"+91 \"+i[-10:-5]+\" \"+i[-5:] for i in l)\n",
    "    return fun\n",
    "\n",
    "@wrapper\n",
    "def sort_phone(l):\n",
    "    print(*sorted(l), sep='\\n')\n",
    "\n",
    "if __name__ == '__main__':\n",
    "    l = [input() for _ in range(int(input()))]\n",
    "    sort_phone(l) "
   ]
  },
  {
   "cell_type": "markdown",
   "id": "suspected-community",
   "metadata": {},
   "source": [
    "#### Decorators 2 - Name Directory"
   ]
  },
  {
   "cell_type": "code",
   "execution_count": null,
   "id": "atlantic-skill",
   "metadata": {},
   "outputs": [],
   "source": [
    "import operator\n",
    "\n",
    "def person_lister(f):\n",
    "    def inner(people):\n",
    "        # complete the function\n",
    "        #res = sorted(people, key=operator.itemgetter(2))\n",
    "        #return [f(i) for i in res]\n",
    "        #return map(f, sorted(people, key=lambda x: x[2])) \n",
    "        return map(f, sorted([[i[0], i[1], int(i[2]), i[3]] for i in people],       key=operator.itemgetter(2)))          \n",
    "    return inner\n",
    "\n",
    "@person_lister\n",
    "def name_format(person):\n",
    "    return (\"Mr. \" if person[3] == \"M\" else \"Ms. \") + person[0] + \" \" + person[1]\n",
    "\n",
    "if __name__ == '__main__':\n",
    "    people = [input().split() for i in range(int(input()))]\n",
    "    print(*name_format(people), sep='\\n')"
   ]
  },
  {
   "cell_type": "markdown",
   "id": "vanilla-packaging",
   "metadata": {},
   "source": [
    "### 13. Numpy"
   ]
  },
  {
   "cell_type": "markdown",
   "id": "exciting-vintage",
   "metadata": {},
   "source": [
    "### Arrays "
   ]
  },
  {
   "cell_type": "code",
   "execution_count": null,
   "id": "duplicate-puppy",
   "metadata": {},
   "outputs": [],
   "source": [
    "import numpy\n",
    "\n",
    "def arrays(arr):\n",
    "    # complete this function\n",
    "    # use numpy.array\n",
    "    return numpy.array(arr[::-1], float)"
   ]
  },
  {
   "cell_type": "markdown",
   "id": "bound-mambo",
   "metadata": {},
   "source": [
    "#### Shape and Reshape"
   ]
  },
  {
   "cell_type": "code",
   "execution_count": null,
   "id": "tight-territory",
   "metadata": {},
   "outputs": [],
   "source": [
    "import numpy\n",
    "\n",
    "arr = numpy.array(input().split(), int)\n",
    "print(numpy.reshape(arr,(3,3)))"
   ]
  },
  {
   "cell_type": "markdown",
   "id": "violent-webster",
   "metadata": {},
   "source": [
    "#### Transpose and Flatten"
   ]
  },
  {
   "cell_type": "code",
   "execution_count": null,
   "id": "amazing-fraction",
   "metadata": {},
   "outputs": [],
   "source": [
    "import numpy\n",
    "\n",
    "arr = []\n",
    "n, m = input().split()\n",
    "for i in range(int(n)):\n",
    "    rows = input().split()\n",
    "    arr.append(rows)\n",
    "arr = numpy.array(arr, int)\n",
    "print(numpy.transpose(arr), arr.flatten(), sep = \"\\n\")"
   ]
  },
  {
   "cell_type": "markdown",
   "id": "integrated-colombia",
   "metadata": {},
   "source": [
    "#### Concatenate"
   ]
  },
  {
   "cell_type": "code",
   "execution_count": null,
   "id": "ambient-theology",
   "metadata": {},
   "outputs": [],
   "source": [
    "import numpy\n",
    "\n",
    "n, m, p = input().split()\n",
    "arr1 = numpy.array([input().split() for _ in range(int(n))],int)\n",
    "arr2 = numpy.array([input().split() for _ in range(int(m))],int)\n",
    "\n",
    "print(numpy.concatenate((arr1, arr2), axis = 0))"
   ]
  },
  {
   "cell_type": "markdown",
   "id": "liberal-question",
   "metadata": {},
   "source": [
    "#### Zeros and Ones"
   ]
  },
  {
   "cell_type": "code",
   "execution_count": null,
   "id": "south-contractor",
   "metadata": {},
   "outputs": [],
   "source": [
    "import numpy\n",
    "\n",
    "\n",
    "dimens = list(map(int, input().split()))\n",
    "print(numpy.zeros((dimens), dtype = int))   \n",
    "print(numpy.ones((dimens), dtype = int))"
   ]
  },
  {
   "cell_type": "markdown",
   "id": "taken-screen",
   "metadata": {},
   "source": [
    "#### Eye and Identity"
   ]
  },
  {
   "cell_type": "code",
   "execution_count": null,
   "id": "peripheral-acquisition",
   "metadata": {},
   "outputs": [],
   "source": [
    "import numpy\n",
    "numpy.set_printoptions(legacy = '1.13')\n",
    "n,m = input().split()\n",
    "print(numpy.eye(int(n), int(m)))"
   ]
  },
  {
   "cell_type": "markdown",
   "id": "separate-senior",
   "metadata": {},
   "source": [
    "#### Array Mathematics"
   ]
  },
  {
   "cell_type": "code",
   "execution_count": null,
   "id": "collective-calgary",
   "metadata": {},
   "outputs": [],
   "source": [
    "import numpy as np\n",
    "\n",
    "n, m = map(int, input().split())\n",
    "a = np.array([list(map(int, input().split())) for _ in range(n)], int)\n",
    "b = np.array([list(map(int, input().split())) for _ in range(n)], int)\n",
    "print(np.add(a,b), np.subtract(a,b), np.multiply(a,b), np.floor_divide(a,b), \n",
    "np.mod(a,b), np.power(a,b), sep = \"\\n\")"
   ]
  },
  {
   "cell_type": "markdown",
   "id": "environmental-neighbor",
   "metadata": {},
   "source": [
    "#### Floor, Ceil and Rint"
   ]
  },
  {
   "cell_type": "code",
   "execution_count": null,
   "id": "hollow-presence",
   "metadata": {},
   "outputs": [],
   "source": [
    "import numpy as np\n",
    "np.set_printoptions(legacy = '1.13')\n",
    "\n",
    "arr = np.array(list(input().split()), float)\n",
    "print(np.floor(arr), np.ceil(arr), np.rint(arr), sep = \"\\n\")"
   ]
  },
  {
   "cell_type": "markdown",
   "id": "satisfactory-zimbabwe",
   "metadata": {},
   "source": [
    "#### Sum and Prod"
   ]
  },
  {
   "cell_type": "code",
   "execution_count": null,
   "id": "saving-noise",
   "metadata": {},
   "outputs": [],
   "source": [
    "import numpy as np\n",
    "\n",
    "n, m = map(int, input().split())\n",
    "arr = []\n",
    "for i in range(n):\n",
    "    arr.append(list(input().split()))\n",
    "\n",
    "a = np.array(arr, int)\n",
    "\n",
    "print(np.prod(np.sum(a, axis = 0)))"
   ]
  },
  {
   "cell_type": "markdown",
   "id": "useful-browser",
   "metadata": {},
   "source": [
    "#### Min and Max"
   ]
  },
  {
   "cell_type": "code",
   "execution_count": null,
   "id": "aquatic-corruption",
   "metadata": {},
   "outputs": [],
   "source": [
    "import numpy as np\n",
    "\n",
    "n, m = map(int, input().split())\n",
    "arr = []\n",
    "for i in range(n):\n",
    "    arr.append(list(input().split()))\n",
    "\n",
    "a = np.array(arr, int)\n",
    "\n",
    "print(np.max(np.min(a, axis = 1))) "
   ]
  },
  {
   "cell_type": "markdown",
   "id": "related-telephone",
   "metadata": {},
   "source": [
    "#### Mean, Var and Std"
   ]
  },
  {
   "cell_type": "code",
   "execution_count": null,
   "id": "russian-trial",
   "metadata": {},
   "outputs": [],
   "source": [
    "import numpy as np\n",
    "\n",
    "n, m = map(int, input().split())\n",
    "arr = []\n",
    "for i in range(n):\n",
    "    arr.append(list(input().split()))\n",
    "\n",
    "a = np.array(arr, int)\n",
    "print(np.mean(a, axis = 1), np.var(a, axis = 0), round(np.std(a),11), sep = \"\\n\")"
   ]
  },
  {
   "cell_type": "markdown",
   "id": "adult-inflation",
   "metadata": {},
   "source": [
    "#### Dot and Cross"
   ]
  },
  {
   "cell_type": "code",
   "execution_count": null,
   "id": "experimental-indianapolis",
   "metadata": {},
   "outputs": [],
   "source": [
    "import numpy as np\n",
    "\n",
    "\n",
    "N = int(input())\n",
    "a = np.array([input().split() for i in range(N)], int)\n",
    "b = np.array([input().split() for i in range(N)], int)\n",
    "    \n",
    "print(np.dot(a,b))"
   ]
  },
  {
   "cell_type": "markdown",
   "id": "japanese-pursuit",
   "metadata": {},
   "source": [
    "#### Inner and Outer"
   ]
  },
  {
   "cell_type": "code",
   "execution_count": null,
   "id": "sized-alias",
   "metadata": {},
   "outputs": [],
   "source": [
    "import numpy as np\n",
    "\n",
    "a = np.array(input().split(), int)\n",
    "b = np.array(input().split(), int)\n",
    "\n",
    "print(np.inner(a,b), np.outer(a,b), sep = \"\\n\")"
   ]
  },
  {
   "cell_type": "markdown",
   "id": "decimal-protocol",
   "metadata": {},
   "source": [
    "#### Polynomials"
   ]
  },
  {
   "cell_type": "code",
   "execution_count": null,
   "id": "worse-bobby",
   "metadata": {},
   "outputs": [],
   "source": [
    "import numpy as np\n",
    "\n",
    "P = np.array(input().split(), float)\n",
    "x = int(input())\n",
    "print(np.polyval(P, x))"
   ]
  },
  {
   "cell_type": "markdown",
   "id": "driving-princeton",
   "metadata": {},
   "source": [
    "#### Linear Algebra"
   ]
  },
  {
   "cell_type": "code",
   "execution_count": null,
   "id": "parliamentary-understanding",
   "metadata": {},
   "outputs": [],
   "source": [
    "import numpy as np\n",
    "\n",
    "N = int(input())\n",
    "a = np.array([input().split() for _ in range(N)], float)\n",
    "print(round(np.linalg.det(a),2))"
   ]
  },
  {
   "cell_type": "markdown",
   "id": "accessory-heading",
   "metadata": {},
   "source": [
    "## Problem 2"
   ]
  },
  {
   "cell_type": "markdown",
   "id": "aquatic-requirement",
   "metadata": {},
   "source": [
    "#### Birthday Cake Candles"
   ]
  },
  {
   "cell_type": "code",
   "execution_count": null,
   "id": "rational-legend",
   "metadata": {},
   "outputs": [],
   "source": [
    "#!/bin/python3\n",
    "\n",
    "import math\n",
    "import os\n",
    "import random\n",
    "import re\n",
    "import sys\n",
    "\n",
    "#\n",
    "# Complete the 'birthdayCakeCandles' function below.\n",
    "#\n",
    "# The function is expected to return an INTEGER.\n",
    "# The function accepts INTEGER_ARRAY candles as parameter.\n",
    "#\n",
    "\n",
    "def birthdayCakeCandles(candles):\n",
    "    # Write your code here\n",
    "    return candles.count(max(candles))\n",
    "\n",
    "if __name__ == '__main__':\n",
    "    fptr = open(os.environ['OUTPUT_PATH'], 'w')\n",
    "\n",
    "    candles_count = int(input().strip())\n",
    "\n",
    "    candles = list(map(int, input().rstrip().split()))\n",
    "\n",
    "    result = birthdayCakeCandles(candles)\n",
    "\n",
    "    fptr.write(str(result) + '\\n')\n",
    "\n",
    "    fptr.close()"
   ]
  },
  {
   "cell_type": "markdown",
   "id": "exterior-favor",
   "metadata": {},
   "source": [
    "#### Number Line Jumps"
   ]
  },
  {
   "cell_type": "code",
   "execution_count": null,
   "id": "inclusive-external",
   "metadata": {},
   "outputs": [],
   "source": [
    "#!/bin/python3\n",
    "\n",
    "import math\n",
    "import os\n",
    "import random\n",
    "import re\n",
    "import sys\n",
    "\n",
    "#\n",
    "# Complete the 'kangaroo' function below.\n",
    "#\n",
    "# The function is expected to return a STRING.\n",
    "# The function accepts following parameters:\n",
    "#  1. INTEGER x1\n",
    "#  2. INTEGER v1\n",
    "#  3. INTEGER x2\n",
    "#  4. INTEGER v2\n",
    "#\n",
    "#Kangaroo Position = (Number of Jumps * Distance per Jump) + Starting Position.\n",
    "def kangaroo(x1, v1, x2, v2):\n",
    "    # Write your code here\n",
    "    \n",
    "    return 'YES' if (v1 > v2) and (x2 - x1) % (v2 - v1) == 0 else 'NO'\n",
    "\n",
    "if __name__ == '__main__':\n",
    "    fptr = open(os.environ['OUTPUT_PATH'], 'w')\n",
    "\n",
    "    first_multiple_input = input().rstrip().split()\n",
    "\n",
    "    x1 = int(first_multiple_input[0])\n",
    "\n",
    "    v1 = int(first_multiple_input[1])\n",
    "\n",
    "    x2 = int(first_multiple_input[2])\n",
    "\n",
    "    v2 = int(first_multiple_input[3])\n",
    "\n",
    "    result = kangaroo(x1, v1, x2, v2)\n",
    "\n",
    "    fptr.write(result + '\\n')\n",
    "\n",
    "    fptr.close()\n"
   ]
  },
  {
   "cell_type": "markdown",
   "id": "consolidated-petite",
   "metadata": {},
   "source": [
    "#### Viral Advertising"
   ]
  },
  {
   "cell_type": "code",
   "execution_count": null,
   "id": "exterior-springfield",
   "metadata": {},
   "outputs": [],
   "source": [
    "#!/bin/python3\n",
    "\n",
    "import math\n",
    "import os\n",
    "import random\n",
    "import re\n",
    "import sys\n",
    "\n",
    "#\n",
    "# Complete the 'viralAdvertising' function below.\n",
    "#\n",
    "# The function is expected to return an INTEGER.\n",
    "# The function accepts INTEGER n as parameter.\n",
    "#\n",
    "from math import floor\n",
    "def viralAdvertising(n):\n",
    "    # Write your code here\n",
    "    people = 5\n",
    "    like = 0\n",
    "    for i in range(n):\n",
    "        pplike = floor(people/2)\n",
    "        like += pplike\n",
    "        people = pplike*3\n",
    "    return like\n",
    "\n",
    "if __name__ == '__main__':\n",
    "    fptr = open(os.environ['OUTPUT_PATH'], 'w')\n",
    "\n",
    "    n = int(input().strip())\n",
    "\n",
    "    result = viralAdvertising(n)\n",
    "\n",
    "    fptr.write(str(result) + '\\n')\n",
    "\n",
    "    fptr.close()"
   ]
  },
  {
   "cell_type": "markdown",
   "id": "rural-postage",
   "metadata": {},
   "source": [
    "#### Recursive Digit Sum"
   ]
  },
  {
   "cell_type": "code",
   "execution_count": null,
   "id": "aging-economy",
   "metadata": {},
   "outputs": [],
   "source": [
    "#!/bin/python3\n",
    "\n",
    "import math\n",
    "import os\n",
    "import random\n",
    "import re\n",
    "import sys\n",
    "\n",
    "#\n",
    "# Complete the 'superDigit' function below.\n",
    "#\n",
    "# The function is expected to return an INTEGER.\n",
    "# The function accepts following parameters:\n",
    "#  1. STRING n\n",
    "#  2. INTEGER k\n",
    "#\n",
    "\n",
    "def superDigit(n, k):\n",
    "    number = str(k*sum([int(i) for i in n]))\n",
    "    return superDigitprocss(number)\n",
    "    \n",
    "def superDigitprocss(number):\n",
    "    if len(number) == 1:\n",
    "        return int(number)\n",
    "    else:\n",
    "        x = str(sum([int(i) for i in number]))\n",
    "        return superDigitprocss(x)\n",
    "\n",
    "    \n",
    "\n",
    "if __name__ == '__main__':\n",
    "    fptr = open(os.environ['OUTPUT_PATH'], 'w')\n",
    "\n",
    "    first_multiple_input = input().rstrip().split()\n",
    "\n",
    "    n = first_multiple_input[0]\n",
    "\n",
    "    k = int(first_multiple_input[1])\n",
    "\n",
    "    result = superDigit(n, k)\n",
    "\n",
    "    fptr.write(str(result) + '\\n')\n",
    "\n",
    "    fptr.close()"
   ]
  },
  {
   "cell_type": "markdown",
   "id": "conditional-queen",
   "metadata": {},
   "source": [
    "#### Insertion Sort - Part 1"
   ]
  },
  {
   "cell_type": "code",
   "execution_count": null,
   "id": "impressive-packet",
   "metadata": {},
   "outputs": [],
   "source": [
    "#!/bin/python3\n",
    "\n",
    "import math\n",
    "import os\n",
    "import random\n",
    "import re\n",
    "import sys\n",
    "\n",
    "#\n",
    "# Complete the 'insertionSort1' function below.\n",
    "#\n",
    "# The function accepts following parameters:\n",
    "#  1. INTEGER n\n",
    "#  2. INTEGER_ARRAY arr\n",
    "#\n",
    "\n",
    "def insertionSort1(n, arr):\n",
    "    # Write your code here\n",
    "    key = arr[-1]\n",
    "    i = n-1\n",
    "    while (i>0) and (arr[i-1]>key):\n",
    "        arr[i] = arr[i-1]\n",
    "        print(*arr)\n",
    "        i-=1\n",
    "    arr[i] = key\n",
    "    print(*arr)\n",
    "    \n",
    "\n",
    "if __name__ == '__main__':\n",
    "    n = int(input().strip())\n",
    "\n",
    "    arr = list(map(int, input().rstrip().split()))\n",
    "\n",
    "    insertionSort1(n, arr)"
   ]
  },
  {
   "cell_type": "markdown",
   "id": "prime-fence",
   "metadata": {},
   "source": [
    "#### Insertion Sort - Part 2"
   ]
  },
  {
   "cell_type": "code",
   "execution_count": null,
   "id": "bound-gasoline",
   "metadata": {},
   "outputs": [],
   "source": [
    "#!/bin/python3\n",
    "\n",
    "import math\n",
    "import os\n",
    "import random\n",
    "import re\n",
    "import sys\n",
    "\n",
    "#\n",
    "# Complete the 'insertionSort2' function below.\n",
    "#\n",
    "# The function accepts following parameters:\n",
    "#  1. INTEGER n\n",
    "#  2. INTEGER_ARRAY arr\n",
    "#\n",
    "\n",
    "def insertionSort2(n, arr):\n",
    "    # Write your code here\n",
    "    for j in range(1,n):\n",
    "        key = arr[j]\n",
    "        i = j\n",
    "        while (i>0) and (arr[i-1]>key):\n",
    "            arr[i] = arr[i-1]\n",
    "            i-=1\n",
    "        arr[i] = key\n",
    "        print(*arr)\n",
    "\n",
    "if __name__ == '__main__':\n",
    "    n = int(input().strip())\n",
    "\n",
    "    arr = list(map(int, input().rstrip().split()))\n",
    "\n",
    "    insertionSort2(n, arr)"
   ]
  }
 ],
 "metadata": {
  "kernelspec": {
   "display_name": "Python 3",
   "language": "python",
   "name": "python3"
  },
  "language_info": {
   "codemirror_mode": {
    "name": "ipython",
    "version": 3
   },
   "file_extension": ".py",
   "mimetype": "text/x-python",
   "name": "python",
   "nbconvert_exporter": "python",
   "pygments_lexer": "ipython3",
   "version": "3.9.2"
  }
 },
 "nbformat": 4,
 "nbformat_minor": 5
}
